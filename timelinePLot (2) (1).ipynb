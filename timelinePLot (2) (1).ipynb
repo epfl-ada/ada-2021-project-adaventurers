{
 "cells": [
  {
   "cell_type": "code",
   "execution_count": 1,
   "metadata": {
    "colab": {
     "base_uri": "https://localhost:8080/"
    },
    "id": "amQH3FIODqv2",
    "outputId": "1ea84f48-118e-41dd-cb46-6b00b60d7051"
   },
   "outputs": [
    {
     "name": "stdout",
     "output_type": "stream",
     "text": [
      "Mounted at /content/drive\n",
      "/content/drive/My Drive/Colab Notebooks\n"
     ]
    }
   ],
   "source": [
    "# mount the google drive \n",
    "from google.colab import drive\n",
    "drive.mount('/content/drive', force_remount=True)\n",
    "\n",
    "# Common path for the adaventurers\n",
    "%cd drive/My\\ Drive/Colab\\ Notebooks/"
   ]
  },
  {
   "cell_type": "code",
   "execution_count": 2,
   "metadata": {
    "id": "MyzXDyg4-9w9"
   },
   "outputs": [],
   "source": [
    "import numpy as np\n",
    "import pandas as pd\n",
    "import matplotlib.pyplot as plt\n",
    "import matplotlib.image as mpimg"
   ]
  },
  {
   "cell_type": "markdown",
   "metadata": {
    "id": "ZJY_XWrib09h"
   },
   "source": [
    "Inspect the main quotes related to a topic (to understand the hidden event behind it) : \n",
    "\n",
    "\n",
    "1.   pick a topic index in the google doc **- 1**\n",
    "2.   set *index* variable to this value \n",
    "3.   Have a look at the 10 best related quotes\n",
    "\n",
    "\n",
    "\n",
    "\n"
   ]
  },
  {
   "cell_type": "code",
   "execution_count": 86,
   "metadata": {
    "colab": {
     "base_uri": "https://localhost:8080/"
    },
    "id": "psxxYPDRHs3e",
    "outputId": "5482dda8-7dcc-4ae9-dbec-1472193d6189"
   },
   "outputs": [
    {
     "data": {
      "text/plain": [
       "array(['I think our main focus right now is to have the president and his counsel, who you know have been given the same privileges as President Nixon and President Clinton had to participate and engage in this impeachment process,',\n",
       "       'It seems they have a plan to get us impeached or are threatening to impeach us,',\n",
       "       \"And I know there's very high expectations, as there are for us. The expectations for our team often are at a very, very, very high level, and I understand that. But at the same time, I think there's realistic expectations with our circumstances, incorporating different elements, players and injuries. Again, we're just trying to do the best that we can do.\",\n",
       "       \"That clause was intended to cover what is really public crime... we want to make sure that the chief executive doesn't abuse his office for personal gain. So we're not supposed to impeach people because they're mean... or because they're racist or sexist.\",\n",
       "       \"It's not wrong because we are in an election year -- there is no good time for an impeachment. No, it's wrong because this is not how you impeach an American president.\",\n",
       "       'This will mean that the beyond important and seldom-used act of Impeachment will be used routinely to attack future Presidents. That is not what our Founders had in mind. The good thing is that the Republicans have NEVER been more united. We will win!',\n",
       "       'pro-Trump, anti-impeachment narrative.',\n",
       "       'The facts and the Constitution give us no choice but to impeach... the president,',\n",
       "       'Hands down, I think the Democrats have an incredibly strong argument to make on impeachment, but I have also been amazed at how poorly the impeachment process so far has been handled.',\n",
       "       'You would have thought that the Republicans would all vote for it, because it gave them more rights than we ever received in any of the other impeachment proceedings,'],\n",
       "      dtype=object)"
      ]
     },
     "execution_count": 86,
     "metadata": {},
     "output_type": "execute_result"
    }
   ],
   "source": [
    "index = 7509\n",
    "### SET FILE NAME ###\n",
    "quote_year = pd.read_pickle(\"2019_quotes_with_topics_1100000.pkl\")\n",
    "#####################\n",
    "quote_year = quote_year.sort_values(by=\"topic_prob\",ascending=False)\n",
    "quote_year[quote_year['topic_number'] == index]['quotation'][0:10].values"
   ]
  },
  {
   "cell_type": "markdown",
   "metadata": {
    "id": "bc-S4Y-1mmWx"
   },
   "source": [
    "Find relevant topic :\n",
    "\n",
    "1. Set the month number you want after the *==* in the 2 cells \n",
    "2. Run both of them \n",
    "\n",
    "The first cell shows the top 10 topics of the month with KEYWORDS\n",
    "\n",
    "The second cell indicates the count and the topic index (for google doc creation)"
   ]
  },
  {
   "cell_type": "code",
   "execution_count": 31,
   "metadata": {
    "colab": {
     "base_uri": "https://localhost:8080/"
    },
    "id": "ZRKA0yVDb2xm",
    "outputId": "9ff594b4-3642-48c9-e499-6c60c9d6ef9f"
   },
   "outputs": [
    {
     "data": {
      "text/plain": [
       "array([[list([('game', 0.007653768136946191), ('win', 0.007572022860818818), ('ball', 0.006143231904939318), ('half', 0.00588115257156904), ('games', 0.005864443301029049), ('team', 0.005859016998271969), ('shots', 0.005092518917997494), ('defense', 0.005078112528421879), ('play', 0.005026956565405366), ('points', 0.004975236381174858)])],\n",
       "       [list([('students', 0.02108534500113206), ('school', 0.01610228873633922), ('schools', 0.011896515510181315), ('education', 0.011876911223848556), ('teachers', 0.011338214614911859), ('student', 0.007913151006172717), ('university', 0.0065715401205401975), ('teacher', 0.0050481297224941836), ('faculty', 0.004512588612537374), ('college', 0.004367126635630137)])],\n",
       "       [list([('food', 0.015622434183666375), ('eat', 0.008597266324278284), ('wine', 0.007446820964404477), ('beer', 0.0073213145260018885), ('eating', 0.007255154501933978), ('drink', 0.006641506138344334), ('meat', 0.006526999097173328), ('diet', 0.005693255476435595), ('restaurant', 0.00545184295316246), ('vegan', 0.005100514963150146)])],\n",
       "       [list([('hes', 0.013491654091593048), ('player', 0.010663810340189105), ('he', 0.00883609564193539), ('him', 0.00757789414279053), ('his', 0.0052875419947975314), ('striker', 0.004218513722317612), ('play', 0.003856809736035941), ('season', 0.003543326056811043), ('players', 0.003438665037889216), ('ball', 0.0032676236358532684)])],\n",
       "       [list([('music', 0.023001732269275686), ('song', 0.013856372524102763), ('songs', 0.013306516255962172), ('band', 0.008385082663029455), ('guitar', 0.00786753822466818), ('album', 0.007822194577707418), ('rock', 0.004878378101691986), ('bands', 0.004723568224252406), ('singing', 0.004404955927468353), ('festival', 0.0038046532606089934)])],\n",
       "       [list([('traffic', 0.009502177935311901), ('road', 0.008889631129068275), ('roads', 0.007778208089330349), ('car', 0.007299948138800231), ('bus', 0.006022584403312274), ('cars', 0.005784524214964993), ('parking', 0.005525834728373324), ('rail', 0.005456529261623316), ('transportation', 0.005425548660818704), ('drivers', 0.005186591321634337)])],\n",
       "       [list([('he', 0.013386816975399328), ('him', 0.01224292630180284), ('hes', 0.01002923004740499), ('his', 0.006981539597172221), ('guy', 0.004508494475733361), ('me', 0.004208239841790098), ('was', 0.0035046129128856024), ('always', 0.003131847990275109), ('man', 0.003023625358568809), ('said', 0.002898343907350369)])],\n",
       "       [list([('court', 0.0233241236728784), ('judges', 0.010846068984502648), ('courts', 0.009492679548385473), ('judge', 0.008576472832774715), ('trial', 0.007855153729131616), ('case', 0.007523778640184262), ('supreme', 0.006990004098201903), ('arrested', 0.006582359099570099), ('charges', 0.006321985040552799), ('defendant', 0.006025209113378342)])],\n",
       "       [list([('snow', 0.028670002739968337), ('weather', 0.020607871560467554), ('cold', 0.01905440700268815), ('temperatures', 0.014336236582320444), ('ice', 0.013989926704747862), ('rain', 0.013267717862338772), ('winter', 0.011839969283629778), ('storm', 0.011131256623579215), ('warm', 0.00816627190053154), ('wind', 0.008146659370219175)])],\n",
       "       [list([('cricket', 0.027872545921857627), ('bowling', 0.015658513127731935), ('wickets', 0.013388014509287862), ('bowlers', 0.011300563008860141), ('batting', 0.009794927951287695), ('series', 0.007845850771988634), ('bowled', 0.0077947690384196485), ('test', 0.007748479560210758), ('wicket', 0.0068186462082556005), ('overs', 0.006718490159206647)])]],\n",
       "      dtype=object)"
      ]
     },
     "execution_count": 31,
     "metadata": {},
     "output_type": "execute_result"
    }
   ],
   "source": [
    "### SET FILE NAME ###\n",
    "quote_month = pd.read_pickle(\"2019topics_by_month_1100000.pkl\")\n",
    "#####################\n",
    "quote_month[quote_month['Month'] == 1][['Words']].iloc[0:10].values"
   ]
  },
  {
   "cell_type": "code",
   "execution_count": 32,
   "metadata": {
    "colab": {
     "base_uri": "https://localhost:8080/",
     "height": 363
    },
    "id": "JiehcdK2YUBw",
    "outputId": "cb8467e3-9806-48b5-dc67-8215c1ce1661"
   },
   "outputs": [
    {
     "data": {
      "text/html": [
       "<div>\n",
       "<style scoped>\n",
       "    .dataframe tbody tr th:only-of-type {\n",
       "        vertical-align: middle;\n",
       "    }\n",
       "\n",
       "    .dataframe tbody tr th {\n",
       "        vertical-align: top;\n",
       "    }\n",
       "\n",
       "    .dataframe thead th {\n",
       "        text-align: right;\n",
       "    }\n",
       "</style>\n",
       "<table border=\"1\" class=\"dataframe\">\n",
       "  <thead>\n",
       "    <tr style=\"text-align: right;\">\n",
       "      <th></th>\n",
       "      <th>Count</th>\n",
       "      <th>Name</th>\n",
       "    </tr>\n",
       "  </thead>\n",
       "  <tbody>\n",
       "    <tr>\n",
       "      <th>1</th>\n",
       "      <td>2453</td>\n",
       "      <td>0_game_win_ball_half</td>\n",
       "    </tr>\n",
       "    <tr>\n",
       "      <th>2</th>\n",
       "      <td>1407</td>\n",
       "      <td>1_students_school_schools_education</td>\n",
       "    </tr>\n",
       "    <tr>\n",
       "      <th>3</th>\n",
       "      <td>1152</td>\n",
       "      <td>2_food_eat_wine_beer</td>\n",
       "    </tr>\n",
       "    <tr>\n",
       "      <th>4</th>\n",
       "      <td>1144</td>\n",
       "      <td>3_hes_player_he_him</td>\n",
       "    </tr>\n",
       "    <tr>\n",
       "      <th>5</th>\n",
       "      <td>993</td>\n",
       "      <td>4_music_song_songs_band</td>\n",
       "    </tr>\n",
       "    <tr>\n",
       "      <th>6</th>\n",
       "      <td>987</td>\n",
       "      <td>5_traffic_road_roads_car</td>\n",
       "    </tr>\n",
       "    <tr>\n",
       "      <th>7</th>\n",
       "      <td>907</td>\n",
       "      <td>6_he_him_hes_his</td>\n",
       "    </tr>\n",
       "    <tr>\n",
       "      <th>8</th>\n",
       "      <td>614</td>\n",
       "      <td>7_court_judges_courts_judge</td>\n",
       "    </tr>\n",
       "    <tr>\n",
       "      <th>9</th>\n",
       "      <td>570</td>\n",
       "      <td>8_snow_weather_cold_temperatures</td>\n",
       "    </tr>\n",
       "    <tr>\n",
       "      <th>10</th>\n",
       "      <td>492</td>\n",
       "      <td>9_cricket_bowling_wickets_bowlers</td>\n",
       "    </tr>\n",
       "  </tbody>\n",
       "</table>\n",
       "</div>"
      ],
      "text/plain": [
       "   Count                                 Name\n",
       "1   2453                 0_game_win_ball_half\n",
       "2   1407  1_students_school_schools_education\n",
       "3   1152                 2_food_eat_wine_beer\n",
       "4   1144                  3_hes_player_he_him\n",
       "5    993              4_music_song_songs_band\n",
       "6    987             5_traffic_road_roads_car\n",
       "7    907                     6_he_him_hes_his\n",
       "8    614          7_court_judges_courts_judge\n",
       "9    570     8_snow_weather_cold_temperatures\n",
       "10   492    9_cricket_bowling_wickets_bowlers"
      ]
     },
     "execution_count": 32,
     "metadata": {},
     "output_type": "execute_result"
    }
   ],
   "source": [
    "quote_month[quote_month['Month'] == 1][['Count', 'Name']].iloc[1:11]"
   ]
  },
  {
   "cell_type": "markdown",
   "metadata": {
    "id": "gptqwPG4mCw_"
   },
   "source": [
    "DON'T MIN THIS : FOR TIMELINE PLOTTING"
   ]
  },
  {
   "cell_type": "code",
   "execution_count": 8,
   "metadata": {
    "colab": {
     "base_uri": "https://localhost:8080/",
     "height": 518
    },
    "id": "2iAOPX5lENvl",
    "outputId": "c02c1b01-5478-46a5-9ec4-91353993d49c"
   },
   "outputs": [
    {
     "name": "stdout",
     "output_type": "stream",
     "text": [
      "[1.0 0.012831650197270787 0.010623665255004163 0.00602671299815398\n",
      " 0.005538060592898251 0.003402468599558403 0.0029138161943026747\n",
      " 0.0012125818945234734 0.000542947116950809 0.0]\n"
     ]
    },
    {
     "data": {
      "text/plain": [
       "Text(0.5, 1.0, 'Hot topics blablabla')"
      ]
     },
     "execution_count": 8,
     "metadata": {},
     "output_type": "execute_result"
    },
    {
     "name": "stderr",
     "output_type": "stream",
     "text": [
      "findfont: Font family ['cursive'] not found. Falling back to DejaVu Sans.\n",
      "findfont: Font family ['cursive'] not found. Falling back to DejaVu Sans.\n"
     ]
    },
    {
     "data": {
      "image/png": "[encoded data removed]",
      "text/plain": [
       "<Figure size 1440x1080 with 1 Axes>"
      ]
     },
     "metadata": {},
     "output_type": "display_data"
    }
   ],
   "source": [
    "#rng = np.random.default_rng(12345)\n",
    "#x = 14*np.random.rand(13,1)+1\n",
    "#y = 3*np.random.rand(13,1)+0.75\n",
    "\n",
    "topicNames = ['???','Sport game','Education','Drink','???','Song release','stuck in traffic','???','Trial justice', 'baby its cold outside']\n",
    "\n",
    "x = np.linspace(1, 15, num=10)\n",
    "counts = November_top10['Count'].to_numpy()\n",
    "scaled_counts = (counts-np.min(counts))/(np.max(counts)-np.min(counts))\n",
    "print(scaled_counts)\n",
    "y = 3*scaled_counts+0.9  # [from 0.9 to 3.75]\n",
    "\n",
    "fig = plt.figure(figsize=(20,15),facecolor='white')\n",
    "plt.box(False)\n",
    "plt.axis('off')\n",
    "electrode_pic = mpimg.imread('fleche_timeline.png')\n",
    "imgplot = plt.imshow(electrode_pic , extent = (-1.5, 22, -4,4))\n",
    "plt.text(15.3, -0.05, 'November 2019', fontfamily = 'cursive', fontsize = 18 )\n",
    "\n",
    "for i in range (10): \n",
    "  plt.plot([x[i],x[i]], [0,y[i]],'dimgrey')\n",
    "  plt.text(x[i]-0.5, y[i] + 0.1, topicNames[i], fontfamily = 'cursive' ,fontsize = 12)\n",
    "\n",
    "plt.title('Hot topics blablabla', fontfamily = 'cursive',fontsize = 18)"
   ]
  },
  {
   "cell_type": "code",
   "execution_count": 8,
   "metadata": {
    "id": "cpRVcNvnMwMr"
   },
   "outputs": [],
   "source": []
  }
 ],
 "metadata": {
  "colab": {
   "collapsed_sections": [],
   "name": "timelinePLot.ipynb",
   "provenance": []
  },
  "kernelspec": {
   "display_name": "Python 3",
   "language": "python",
   "name": "python3"
  },
  "language_info": {
   "codemirror_mode": {
    "name": "ipython",
    "version": 3
   },
   "file_extension": ".py",
   "mimetype": "text/x-python",
   "name": "python",
   "nbconvert_exporter": "python",
   "pygments_lexer": "ipython3",
   "version": "3.8.8"
  }
 },
 "nbformat": 4,
 "nbformat_minor": 1
}
